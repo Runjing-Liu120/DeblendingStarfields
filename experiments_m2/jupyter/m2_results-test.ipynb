{
 "cells": [
  {
   "cell_type": "markdown",
   "metadata": {},
   "source": [
    "This notebook loads the results on a test image of M2 (Appendix B in our paper). "
   ]
  },
  {
   "cell_type": "code",
   "execution_count": 1,
   "metadata": {},
   "outputs": [],
   "source": [
    "import numpy as np\n",
    "import torch\n",
    "\n",
    "import json\n",
    "\n",
    "import matplotlib.pyplot as plt\n",
    "\n",
    "import deblending_runjingdev.simulated_datasets_lib as simulated_datasets_lib\n",
    "import deblending_runjingdev.sdss_dataset_lib as sdss_dataset_lib\n",
    "import deblending_runjingdev.starnet_lib as starnet_lib\n",
    "import deblending_runjingdev.sleep_lib as sleep_lib\n",
    "import deblending_runjingdev.image_statistics_lib as image_statistics_lib\n",
    "import deblending_runjingdev.daophot_catalog_lib as daophot_catalog_lib\n",
    "\n",
    "import deblending_runjingdev.plotting_utils as plotting_utils\n",
    "\n",
    "from deblending_runjingdev.which_device import device\n",
    "\n",
    "np.random.seed(34534)"
   ]
  },
  {
   "cell_type": "code",
   "execution_count": null,
   "metadata": {},
   "outputs": [],
   "source": []
  },
  {
   "cell_type": "markdown",
   "metadata": {},
   "source": [
    "# Load the data"
   ]
  },
  {
   "cell_type": "code",
   "execution_count": 2,
   "metadata": {},
   "outputs": [
    {
     "name": "stdout",
     "output_type": "stream",
     "text": [
      "loading sdss image from ../../sdss_stage_dir/2583/2/136/frame-r-002583-2-0136.fits\n",
      "loading sdss image from ../../sdss_stage_dir/2583/2/136/frame-i-002583-2-0136.fits\n",
      "loading hubble data from  ../hubble_data/hlsp_acsggct_hst_acs-wfc_ngc7089_r.rdviq.cal.adj.zpt\n",
      "getting sdss coordinates from:  ../../sdss_stage_dir/2583/2/136/frame-r-002583-2-0136.fits\n",
      "\n",
      " aligning images. \n",
      " Getting sdss coordinates from:  ../../sdss_stage_dir/2583/2/136/frame-i-002583-2-0136.fits\n"
     ]
    },
    {
     "name": "stderr",
     "output_type": "stream",
     "text": [
      "WARNING: FITSFixedWarning: RADECSYS= 'ICRS ' / International Celestial Ref. System \n",
      "the RADECSYS keyword is deprecated, use RADESYSa. [astropy.wcs.wcs]\n"
     ]
    },
    {
     "name": "stdout",
     "output_type": "stream",
     "text": [
      "\n",
      " returning image at x0 = 630, x1 = 210\n"
     ]
    }
   ],
   "source": [
    "x0 = 630\n",
    "x1 = 210\n",
    "\n",
    "sdss_image, sdss_background, hubble_locs, hubble_fluxes, sdss_data, wcs = \\\n",
    "    sdss_dataset_lib.load_m2_data(x0 = x0, x1 = x1)"
   ]
  },
  {
   "cell_type": "code",
   "execution_count": 3,
   "metadata": {},
   "outputs": [
    {
     "data": {
      "text/plain": [
       "1413"
      ]
     },
     "execution_count": 3,
     "metadata": {},
     "output_type": "execute_result"
    }
   ],
   "source": [
    "hubble_locs.shape[0]"
   ]
  },
  {
   "cell_type": "code",
   "execution_count": 4,
   "metadata": {},
   "outputs": [
    {
     "data": {
      "image/png": "[encoded data removed]",
      "text/plain": [
       "<Figure size 396.121x288 with 1 Axes>"
      ]
     },
     "metadata": {},
     "output_type": "display_data"
    }
   ],
   "source": [
    "plt.matshow(sdss_data[0]['image'][0], cmap=plt.cm.gray)\n",
    "\n",
    "# initial region, cataloged by PCAT\n",
    "# (not exactly 630, 310 to leave some border, so both red and blue boxes show up)\n",
    "plt.hlines(630, xmin = 315, xmax = 410, color = 'red')\n",
    "plt.hlines(730, xmin = 315, xmax = 410, color = 'red')\n",
    "plt.vlines(315, ymin = 630, ymax = 730, color = 'red')\n",
    "plt.vlines(410, ymin = 630, ymax = 730, color = 'red')\n",
    "\n",
    "\n",
    "# test region, cataloged by PCAT\n",
    "plt.hlines(630, xmin = 210, xmax = 305, color = 'blue')\n",
    "plt.hlines(730, xmin = 210, xmax = 305, color = 'blue')\n",
    "plt.vlines(210, ymin = 630, ymax = 730, color = 'blue')\n",
    "plt.vlines(305, ymin = 630, ymax = 730, color = 'blue')\n",
    "\n",
    "plt.xticks([])\n",
    "plt.yticks([])\n",
    "\n",
    "plt.savefig('../../figures/m2_test/m2_regions.png')"
   ]
  },
  {
   "cell_type": "code",
   "execution_count": 5,
   "metadata": {},
   "outputs": [],
   "source": [
    "nelec_per_nmgy = sdss_data[0]['nelec_per_nmgy'][0].mean()"
   ]
  },
  {
   "cell_type": "code",
   "execution_count": null,
   "metadata": {},
   "outputs": [],
   "source": []
  },
  {
   "cell_type": "markdown",
   "metadata": {},
   "source": [
    "# Load StarNet results"
   ]
  },
  {
   "cell_type": "markdown",
   "metadata": {},
   "source": [
    "### Starnet fit on the original M2 subregion"
   ]
  },
  {
   "cell_type": "code",
   "execution_count": 6,
   "metadata": {},
   "outputs": [],
   "source": [
    "star_encoder_init = starnet_lib.StarEncoder(slen = 100,\n",
    "                                            ptile_slen = 8,\n",
    "                                            step = 2,\n",
    "                                            edge_padding = 3, \n",
    "                                            n_bands = 2,\n",
    "                                            max_detections = 2)\n",
    "\n",
    "star_encoder_init.load_state_dict(torch.load('../fits/starnet-encoder-iter2', \n",
    "                               map_location=lambda storage, loc: storage))\n",
    "\n",
    "\n",
    "star_encoder_init.eval(); \n",
    "star_encoder_init.to(device);\n",
    "\n",
    "starnet_init_map_locs, starnet_init_map_fluxes, starnet_init_map_n_stars = \\\n",
    "    star_encoder_init.sample_star_encoder(sdss_image.unsqueeze(0).to(device), \n",
    "                                    return_map_n_stars = True, \n",
    "                                    return_map_star_params = True)[0:3]"
   ]
  },
  {
   "cell_type": "markdown",
   "metadata": {},
   "source": [
    "### StarNet refit on this new M2 subregion"
   ]
  },
  {
   "cell_type": "code",
   "execution_count": 7,
   "metadata": {},
   "outputs": [],
   "source": [
    "star_encoder_refit = starnet_lib.StarEncoder(slen = 100,\n",
    "                                            ptile_slen = 8,\n",
    "                                            step = 2,\n",
    "                                            edge_padding = 3, \n",
    "                                            n_bands = 2,\n",
    "                                            max_detections = 2)\n",
    "\n",
    "star_encoder_refit.load_state_dict(torch.load('../fits/starnet_m2test-encoder-iter2', \n",
    "                               map_location=lambda storage, loc: storage))\n",
    "\n",
    "\n",
    "star_encoder_refit.eval(); \n",
    "star_encoder_refit.to(device);\n",
    "\n",
    "starnet_refit_map_locs, starnet_refit_map_fluxes, starnet_refit_map_n_stars = \\\n",
    "    star_encoder_refit.sample_star_encoder(sdss_image.unsqueeze(0).to(device), \n",
    "                                    return_map_n_stars = True, \n",
    "                                    return_map_star_params = True)[0:3]"
   ]
  },
  {
   "cell_type": "code",
   "execution_count": 8,
   "metadata": {},
   "outputs": [
    {
     "name": "stdout",
     "output_type": "stream",
     "text": [
      "32.7 ms ± 516 µs per loop (mean ± std. dev. of 7 runs, 10 loops each)\n"
     ]
    }
   ],
   "source": [
    "%timeit star_encoder_refit.sample_star_encoder(sdss_image.unsqueeze(0).to(device), \\\n",
    "                                               return_map_n_stars = True,\\\n",
    "                                               return_map_star_params = True)"
   ]
  },
  {
   "cell_type": "code",
   "execution_count": null,
   "metadata": {},
   "outputs": [],
   "source": []
  },
  {
   "cell_type": "markdown",
   "metadata": {},
   "source": [
    "# Load results from PCAT"
   ]
  },
  {
   "cell_type": "code",
   "execution_count": 9,
   "metadata": {},
   "outputs": [],
   "source": [
    "chain_results = np.load('../fits/my_chain_m2test.npz')"
   ]
  },
  {
   "cell_type": "code",
   "execution_count": 10,
   "metadata": {},
   "outputs": [],
   "source": [
    "# we take the last 300 samples of the chain\n",
    "pcat_n_samples = 300"
   ]
  },
  {
   "cell_type": "code",
   "execution_count": 11,
   "metadata": {},
   "outputs": [],
   "source": [
    "fudge_factor = sdss_data[0]['gain'][0]"
   ]
  },
  {
   "cell_type": "code",
   "execution_count": 12,
   "metadata": {},
   "outputs": [],
   "source": [
    "# n_samples x max_stars x n_bands\n",
    "pcat_sampled_fluxes = chain_results['f'][:, -pcat_n_samples:, :].transpose([1, 2, 0]) * fudge_factor\n",
    "\n",
    "# get boolean for stars that are on\n",
    "pcat_is_on_sampled = pcat_sampled_fluxes[:, :, 0] > 0\n",
    "assert (pcat_is_on_sampled.sum(1) == chain_results['n'][-pcat_n_samples:]).all()\n",
    "\n",
    "# locations: n_samples x max_stars x 2\n",
    "pcat_sampled_locs = np.dstack((chain_results['y'][-pcat_n_samples:, :], \n",
    "                                    chain_results['x'][-pcat_n_samples:, :]))\n",
    "\n",
    "# covert everything to torch tensors \n",
    "pcat_sampled_locs = torch.Tensor(pcat_sampled_locs).to(device) / (sdss_image.shape[-1] - 1)\n",
    "pcat_sampled_fluxes = torch.Tensor(pcat_sampled_fluxes).to(device)"
   ]
  },
  {
   "cell_type": "code",
   "execution_count": 13,
   "metadata": {},
   "outputs": [],
   "source": [
    "pcat_sampled_nstars = chain_results['n'][-pcat_n_samples:]"
   ]
  },
  {
   "cell_type": "code",
   "execution_count": null,
   "metadata": {},
   "outputs": [],
   "source": []
  },
  {
   "cell_type": "markdown",
   "metadata": {},
   "source": [
    "# Load DAOPHOT catalog"
   ]
  },
  {
   "cell_type": "code",
   "execution_count": 14,
   "metadata": {},
   "outputs": [],
   "source": [
    "_daophot_locs, _daophot_fluxes = daophot_catalog_lib.load_daophot_results('../daophot_data/m2_2583.phot', \n",
    "                                                                            nelec_per_nmgy, \n",
    "                                                                            wcs, \n",
    "                                                                            x0 = x0, \n",
    "                                                                            x1 = x1)\n",
    "\n",
    "# align the estimated locations ... \n",
    "# might have been a slightly different coordinate system?\n",
    "daophot_locs, daophot_fluxes = daophot_catalog_lib.align_daophot_locs(_daophot_locs,\n",
    "                                                                      _daophot_fluxes, \n",
    "                                                                      hubble_locs,\n",
    "                                                                      hubble_fluxes[:, 0])"
   ]
  },
  {
   "cell_type": "code",
   "execution_count": null,
   "metadata": {},
   "outputs": [],
   "source": []
  },
  {
   "cell_type": "code",
   "execution_count": null,
   "metadata": {},
   "outputs": [],
   "source": []
  },
  {
   "cell_type": "markdown",
   "metadata": {},
   "source": [
    "# Get summary statistics"
   ]
  },
  {
   "cell_type": "code",
   "execution_count": 15,
   "metadata": {},
   "outputs": [],
   "source": [
    "mag_vec = np.concatenate((np.array([15]), \n",
    "                          np.arange(19, 22.2, 0.4), \n",
    "                          np.array([100])))"
   ]
  },
  {
   "cell_type": "code",
   "execution_count": 16,
   "metadata": {},
   "outputs": [],
   "source": [
    "def get_summary_statistics(est_locs, est_fluxes): \n",
    "    \n",
    "    # get tpr and ppv as function of magnitude\n",
    "    tpr_vec = image_statistics_lib.get_tpr_vec(est_locs,\n",
    "                                               hubble_locs, \n",
    "                                               sdss_image.shape[-1], \n",
    "                                               est_fluxes, \n",
    "                                               hubble_fluxes[:, 0],\n",
    "                                               nelec_per_nmgy, \n",
    "                                               mag_vec = mag_vec)[0]\n",
    "    \n",
    "    ppv_vec = image_statistics_lib.get_ppv_vec(est_locs,\n",
    "                                               hubble_locs, \n",
    "                                               sdss_image.shape[-1], \n",
    "                                               est_fluxes, \n",
    "                                               hubble_fluxes[:, 0],\n",
    "                                               nelec_per_nmgy, \n",
    "                                               mag_vec = mag_vec)[0]\n",
    "    \n",
    "    # get overal tpr and ppv    \n",
    "    tpr, ppv = \\\n",
    "        image_statistics_lib.get_summary_stats(est_locs,\n",
    "                                               hubble_locs, \n",
    "                                               sdss_image.shape[-1], \n",
    "                                               est_fluxes, \n",
    "                                               hubble_fluxes[:, 0],\n",
    "                                               nelec_per_nmgy)[0:2]\n",
    "    # f1 score \n",
    "    f1 = 2 * (tpr * ppv) / (tpr + ppv)\n",
    "    return tpr, ppv, f1, tpr_vec, ppv_vec"
   ]
  },
  {
   "cell_type": "code",
   "execution_count": null,
   "metadata": {},
   "outputs": [],
   "source": []
  },
  {
   "cell_type": "markdown",
   "metadata": {},
   "source": [
    "### Initial StarNet results"
   ]
  },
  {
   "cell_type": "code",
   "execution_count": 17,
   "metadata": {},
   "outputs": [
    {
     "name": "stdout",
     "output_type": "stream",
     "text": [
      "StarNet-init tpr tensor(0.4741, device='cuda:6')\n",
      "StarNet-init ppv tensor(0.4673, device='cuda:6')\n",
      "StarNet-init f1 tensor(0.4707, device='cuda:6')\n"
     ]
    }
   ],
   "source": [
    "tpr, ppv, f1, starnet_init_tpr_vec, starnet_init_ppv_vec = \\\n",
    "    get_summary_statistics(starnet_init_map_locs.squeeze(0), \n",
    "                           starnet_init_map_fluxes[0, :, 0])\n",
    "\n",
    "print('StarNet-init tpr', tpr)\n",
    "print('StarNet-init ppv', ppv)\n",
    "print('StarNet-init f1', f1)"
   ]
  },
  {
   "cell_type": "markdown",
   "metadata": {},
   "source": [
    "### Refit StarNet results"
   ]
  },
  {
   "cell_type": "code",
   "execution_count": 18,
   "metadata": {},
   "outputs": [
    {
     "name": "stdout",
     "output_type": "stream",
     "text": [
      "StarNet-refit tpr tensor(0.4690, device='cuda:6')\n",
      "StarNet-refit ppv tensor(0.4951, device='cuda:6')\n",
      "StarNet-refit f1 tensor(0.4817, device='cuda:6')\n"
     ]
    }
   ],
   "source": [
    "tpr, ppv, f1, starnet_refit_tpr_vec, starnet_refit_ppv_vec = \\\n",
    "    get_summary_statistics(starnet_refit_map_locs.squeeze(0), \n",
    "                           starnet_refit_map_fluxes[0, :, 0])\n",
    "\n",
    "print('StarNet-refit tpr', tpr)\n",
    "print('StarNet-refit ppv', ppv)\n",
    "print('StarNet-refit f1', f1)"
   ]
  },
  {
   "cell_type": "code",
   "execution_count": null,
   "metadata": {},
   "outputs": [],
   "source": []
  },
  {
   "cell_type": "code",
   "execution_count": null,
   "metadata": {},
   "outputs": [],
   "source": []
  },
  {
   "cell_type": "markdown",
   "metadata": {},
   "source": [
    "### pcat statistics"
   ]
  },
  {
   "cell_type": "markdown",
   "metadata": {},
   "source": [
    "These are averaged over all the samples"
   ]
  },
  {
   "cell_type": "code",
   "execution_count": 19,
   "metadata": {},
   "outputs": [
    {
     "name": "stdout",
     "output_type": "stream",
     "text": [
      "PCAT tpr tensor(0.4430, device='cuda:6')\n",
      "PCAT ppv tensor(0.3737, device='cuda:6')\n",
      "PCAT f1 tensor(0.4054, device='cuda:6')\n"
     ]
    }
   ],
   "source": [
    "tpr = 0.\n",
    "ppv = 0.\n",
    "f1 = 0.\n",
    "\n",
    "pcat_ppv_vec = torch.zeros(len(mag_vec) - 1)\n",
    "pcat_tpr_vec = torch.zeros(len(mag_vec) - 1)\n",
    "\n",
    "for i in range(pcat_n_samples):\n",
    "    is_on = pcat_is_on_sampled[i]\n",
    "    \n",
    "    tpr_i, ppv_i, f1_i, pcat_tpr_vec, pcat_ppv_vec = \\\n",
    "        get_summary_statistics(pcat_sampled_locs[i, is_on, :], \n",
    "                               pcat_sampled_fluxes[i, is_on, 0])\n",
    "    \n",
    "    pcat_tpr_vec += pcat_tpr_vec / pcat_n_samples\n",
    "    pcat_ppv_vec += pcat_ppv_vec / pcat_n_samples\n",
    "    \n",
    "    tpr += tpr_i / pcat_n_samples\n",
    "    ppv += ppv_i / pcat_n_samples\n",
    "    f1 += f1_i / pcat_n_samples\n",
    "\n",
    "print('PCAT tpr', tpr)\n",
    "print('PCAT ppv', ppv)\n",
    "print('PCAT f1', f1)"
   ]
  },
  {
   "cell_type": "code",
   "execution_count": null,
   "metadata": {},
   "outputs": [],
   "source": []
  },
  {
   "cell_type": "markdown",
   "metadata": {},
   "source": [
    "### DAOPHOT statistics"
   ]
  },
  {
   "cell_type": "code",
   "execution_count": 20,
   "metadata": {},
   "outputs": [
    {
     "name": "stdout",
     "output_type": "stream",
     "text": [
      "DAOPHOT tpr tensor(0.1289, device='cuda:6')\n",
      "DAOPHOT ppv tensor(0.5296, device='cuda:6')\n",
      "DAOPHOT f1 tensor(0.2074, device='cuda:6')\n"
     ]
    }
   ],
   "source": [
    "tpr, ppv, f1, daophot_tpr_vec, daophot_ppv_vec = \\\n",
    "    get_summary_statistics(daophot_locs, \n",
    "                           daophot_fluxes.squeeze())\n",
    "\n",
    "print('DAOPHOT tpr', tpr)\n",
    "print('DAOPHOT ppv', ppv)\n",
    "print('DAOPHOT f1', f1)"
   ]
  },
  {
   "cell_type": "code",
   "execution_count": null,
   "metadata": {},
   "outputs": [],
   "source": []
  },
  {
   "cell_type": "markdown",
   "metadata": {},
   "source": [
    "## Plot statistics as function of magnitude"
   ]
  },
  {
   "cell_type": "code",
   "execution_count": 21,
   "metadata": {},
   "outputs": [],
   "source": [
    "axis_label_size = 20\n",
    "ticksize = 12\n",
    "legendsize = 12\n",
    "markersize = 10\n",
    "linewidth = 2\n",
    "titlesize = 18"
   ]
  },
  {
   "cell_type": "code",
   "execution_count": 22,
   "metadata": {},
   "outputs": [],
   "source": [
    "def plot_summary_vec(summary_vec, ax, marker, color, label, alpha = 1.0): \n",
    "    ax.plot(x_tmp[:-1],\n",
    "            summary_vec,\n",
    "            marker, \n",
    "            markersize = markersize, \n",
    "            linewidth = linewidth, \n",
    "            color = color, \n",
    "            label = label, \n",
    "            alpha = alpha) "
   ]
  },
  {
   "cell_type": "code",
   "execution_count": 23,
   "metadata": {
    "scrolled": false
   },
   "outputs": [
    {
     "data": {
      "image/png": "[encoded data removed]",
      "text/plain": [
       "<Figure size 936x360 with 2 Axes>"
      ]
     },
     "metadata": {
      "needs_background": "light"
     },
     "output_type": "display_data"
    }
   ],
   "source": [
    "fig, axarr = plt.subplots(1, 2, figsize=(13, 5))\n",
    "\n",
    "x_tmp = np.arange(len(mag_vec))\n",
    "\n",
    "############### \n",
    "# true positive rates\n",
    "###############\n",
    "plot_summary_vec(pcat_tpr_vec, \n",
    "                 axarr[0], \n",
    "                 marker = '-o', \n",
    "                 color = 'deepskyblue', \n",
    "                 label = 'PCAT', \n",
    "                 alpha = 0.4)\n",
    "\n",
    "plot_summary_vec(daophot_tpr_vec, \n",
    "                 axarr[0], \n",
    "                 marker = '-s', \n",
    "                 color = 'orange', \n",
    "                 label = 'DAOPHOT', \n",
    "                 alpha = 0.4)\n",
    "\n",
    "plot_summary_vec(starnet_init_tpr_vec, \n",
    "                 axarr[0], \n",
    "                 marker = '--^', \n",
    "                 color = 'r', \n",
    "                 label = 'StarNet-init')\n",
    "\n",
    "plot_summary_vec(starnet_refit_tpr_vec, \n",
    "                 axarr[0], \n",
    "                 marker = '-^', \n",
    "                 color = 'r', \n",
    "                 label = 'StarNet-refit')\n",
    "\n",
    "################\n",
    "# positive predictive values\n",
    "###############\n",
    "plot_summary_vec(pcat_ppv_vec, \n",
    "                 axarr[1], \n",
    "                 marker = '-o', \n",
    "                 color = 'deepskyblue', \n",
    "                 label = 'PCAT', \n",
    "                 alpha = 0.4)\n",
    "\n",
    "# no detection at lower magnitudes. \n",
    "# don't plot them\n",
    "daophot_ppv_vec[daophot_ppv_vec == 0] = np.inf\n",
    "plot_summary_vec(daophot_ppv_vec, \n",
    "                 axarr[1], \n",
    "                 marker = '-s', \n",
    "                 color = 'orange', \n",
    "                 label = 'DAOPHOT', \n",
    "                 alpha = 0.4)\n",
    "\n",
    "plot_summary_vec(starnet_init_ppv_vec, \n",
    "                 axarr[1], \n",
    "                 marker = '--^', \n",
    "                 color = 'r', \n",
    "                 label = 'StarNet-init')\n",
    "\n",
    "plot_summary_vec(starnet_refit_ppv_vec, \n",
    "                 axarr[1], \n",
    "                 marker = '-^', \n",
    "                 color = 'r', \n",
    "                 label = 'StarNet-refit')\n",
    "\n",
    "\n",
    "###############\n",
    "# Legend\n",
    "###############\n",
    "axarr[1].legend(prop={'size': legendsize})\n",
    "\n",
    "###############\n",
    "# axis labels\n",
    "###############\n",
    "axarr[0].set_xlabel('Hubble magnitude', fontsize = axis_label_size)\n",
    "axarr[1].set_xlabel('Estimated magnitude', fontsize = axis_label_size)\n",
    "axarr[0].set_ylabel('True positive rate', fontsize = axis_label_size)\n",
    "axarr[1].set_ylabel('Positive predictive value', fontsize = axis_label_size)\n",
    "\n",
    "\n",
    "labels_raw = np.round(mag_vec, 1)\n",
    "labels = ['[' + str(labels_raw[i]) + ', ' + str(labels_raw[i+1]) + ')' for i in range(len(labels_raw) - 1)]\n",
    "\n",
    "labels[0] = '< ' + str(labels_raw[1])\n",
    "labels[-1] = '> ' + str(labels_raw[-2])\n",
    "\n",
    "for i in range(2): \n",
    "    axarr[i].set_xticks(x_tmp[:-1])\n",
    "    axarr[i].set_xticklabels(labels, rotation=45, ha = 'right', \n",
    "                             fontsize = axis_label_size * 0.6)\n",
    "\n",
    "fig.tight_layout()\n",
    "fig.savefig('../../figures/m2_test/summary_statistics_m2.png')\n"
   ]
  },
  {
   "cell_type": "code",
   "execution_count": null,
   "metadata": {},
   "outputs": [],
   "source": []
  }
 ],
 "metadata": {
  "kernelspec": {
   "display_name": "deblending_pytorch",
   "language": "python",
   "name": "deblending_pytorch"
  },
  "language_info": {
   "codemirror_mode": {
    "name": "ipython",
    "version": 3
   },
   "file_extension": ".py",
   "mimetype": "text/x-python",
   "name": "python",
   "nbconvert_exporter": "python",
   "pygments_lexer": "ipython3",
   "version": "3.6.7"
  }
 },
 "nbformat": 4,
 "nbformat_minor": 2
}
