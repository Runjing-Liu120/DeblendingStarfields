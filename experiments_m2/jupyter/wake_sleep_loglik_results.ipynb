{
 "cells": [
  {
   "cell_type": "markdown",
   "metadata": {},
   "source": [
    "This notebook evaluates the log-likelihood of model parameters obtained by wake-sleep. Produces Table 2 in the text. "
   ]
  },
  {
   "cell_type": "code",
   "execution_count": 1,
   "metadata": {},
   "outputs": [],
   "source": [
    "import numpy as np\n",
    "import pathlib \n",
    "\n",
    "import matplotlib.pyplot as plt\n",
    "\n",
    "import torch\n",
    "\n",
    "from torch.utils.data import Dataset\n",
    "\n",
    "import deblending_runjingdev.sdss_dataset_lib as sdss_dataset_lib\n",
    "import deblending_runjingdev.psf_transform_lib as psf_transform_lib\n",
    "import deblending_runjingdev.wake_lib as wake_lib\n",
    "from deblending_runjingdev.which_device import device\n",
    "\n",
    "from astropy.io import fits\n",
    "from astropy.wcs import WCS\n",
    "\n",
    "import os"
   ]
  },
  {
   "cell_type": "markdown",
   "metadata": {},
   "source": [
    "# Load M2 data"
   ]
  },
  {
   "cell_type": "code",
   "execution_count": 2,
   "metadata": {
    "scrolled": true
   },
   "outputs": [
    {
     "name": "stdout",
     "output_type": "stream",
     "text": [
      "loading sdss image from ../../sdss_stage_dir/2583/2/136/frame-r-002583-2-0136.fits\n",
      "loading sdss image from ../../sdss_stage_dir/2583/2/136/frame-i-002583-2-0136.fits\n",
      "loading hubble data from  ../hubble_data/hlsp_acsggct_hst_acs-wfc_ngc7089_r.rdviq.cal.adj.zpt\n",
      "getting sdss coordinates from:  ../../sdss_stage_dir/2583/2/136/frame-r-002583-2-0136.fits\n",
      "\n",
      " aligning images. \n",
      " Getting sdss coordinates from:  ../../sdss_stage_dir/2583/2/136/frame-i-002583-2-0136.fits\n"
     ]
    },
    {
     "name": "stderr",
     "output_type": "stream",
     "text": [
      "WARNING: FITSFixedWarning: RADECSYS= 'ICRS ' / International Celestial Ref. System \n",
      "the RADECSYS keyword is deprecated, use RADESYSa. [astropy.wcs.wcs]\n"
     ]
    },
    {
     "name": "stdout",
     "output_type": "stream",
     "text": [
      "\n",
      " returning image at x0 = 630, x1 = 310\n"
     ]
    }
   ],
   "source": [
    "sdss_image, sdss_background, hubble_locs, hubble_fluxes, sdss_data, wcs = \\\n",
    "    sdss_dataset_lib.load_m2_data()"
   ]
  },
  {
   "cell_type": "code",
   "execution_count": 3,
   "metadata": {},
   "outputs": [],
   "source": [
    "hubble_n_stars = torch.Tensor([hubble_locs.shape[0]]).long().to(device)"
   ]
  },
  {
   "cell_type": "code",
   "execution_count": null,
   "metadata": {},
   "outputs": [],
   "source": []
  },
  {
   "cell_type": "markdown",
   "metadata": {},
   "source": [
    "# Load initial PSF and background"
   ]
  },
  {
   "cell_type": "code",
   "execution_count": 4,
   "metadata": {},
   "outputs": [],
   "source": [
    "bands = [2, 3]\n",
    "psfield_file = '../../sdss_stage_dir/2583/2/136/psField-002583-2-0136.fit'\n",
    "init_psf_params = psf_transform_lib.get_psf_params(\n",
    "                                    psfield_file,\n",
    "                                    bands = bands).to(device)"
   ]
  },
  {
   "cell_type": "code",
   "execution_count": 5,
   "metadata": {},
   "outputs": [],
   "source": [
    "init_background_params = torch.zeros(len(bands), 3).to(device)\n",
    "init_background_params[:, 0] = sdss_background.mean(-1).mean(-1)"
   ]
  },
  {
   "cell_type": "code",
   "execution_count": 6,
   "metadata": {},
   "outputs": [],
   "source": [
    "model_params = wake_lib.ModelParams(sdss_image.unsqueeze(0), \n",
    "                                    init_psf_params,\n",
    "                                    init_background_params)"
   ]
  },
  {
   "cell_type": "code",
   "execution_count": null,
   "metadata": {},
   "outputs": [],
   "source": []
  },
  {
   "cell_type": "markdown",
   "metadata": {},
   "source": [
    "# Function to evaluate log-likelihood conditional in true catalog"
   ]
  },
  {
   "cell_type": "code",
   "execution_count": 7,
   "metadata": {},
   "outputs": [],
   "source": [
    "def get_chi2_loss(powerlaw_psf_params, planar_back_params):\n",
    "    \n",
    "    # construct model from psf and background\n",
    "    model_params = wake_lib.ModelParams(sdss_image.unsqueeze(0),\n",
    "                                        powerlaw_psf_params,\n",
    "                                        planar_back_params)\n",
    "    \n",
    "    # evaluate loss at true hubble parameters\n",
    "    recon_mean, _ = model_params.get_loss(use_cached_stars = False, \n",
    "                                          locs = hubble_locs.unsqueeze(0),\n",
    "                                          fluxes = hubble_fluxes.unsqueeze(0), \n",
    "                                          n_stars = hubble_n_stars)\n",
    "        \n",
    "    recon_mean = recon_mean.to(device)\n",
    "    \n",
    "    # only evalute loss at r-band \n",
    "    band = 0\n",
    "    out = ((recon_mean - sdss_image.unsqueeze(0))**2 / recon_mean)[:, band, 5:95, 5:95].sum()\n",
    "    \n",
    "    return out.detach().cpu().numpy()"
   ]
  },
  {
   "cell_type": "code",
   "execution_count": 11,
   "metadata": {},
   "outputs": [],
   "source": [
    "# estimated psf parameters\n",
    "est_psf_params = torch.Tensor(np.load(\n",
    "                '../fits/starnet-iter1-powerlaw_psf_params.npy')).to(device)\n",
    "\n",
    "# estimated background parameters\n",
    "est_back_params = torch.Tensor(np.load(\n",
    "    '../fits/starnet-iter1-planarback_params.npy')).to(device)\n"
   ]
  },
  {
   "cell_type": "code",
   "execution_count": 12,
   "metadata": {},
   "outputs": [],
   "source": [
    "losses_vec = [get_chi2_loss(init_psf_params, init_background_params), # initial psf + initial background\n",
    "              get_chi2_loss(est_psf_params, init_background_params), # estimated psf + intial background\n",
    "              get_chi2_loss(init_psf_params, est_back_params), # initial psf + estimated background\n",
    "              get_chi2_loss(est_psf_params, est_back_params)] # estimated psf estimated background"
   ]
  },
  {
   "cell_type": "code",
   "execution_count": 13,
   "metadata": {},
   "outputs": [],
   "source": [
    "import pandas as pd"
   ]
  },
  {
   "cell_type": "code",
   "execution_count": 14,
   "metadata": {},
   "outputs": [],
   "source": [
    "chi_sq_stats_df = \\\n",
    "    pd.DataFrame({'Model Estimate': ['PHOTO', 'StarNet PSF', 'StarNet background', 'StarNet background + PSF'],\n",
    "                   'Neg. Loglik': losses_vec})"
   ]
  },
  {
   "cell_type": "markdown",
   "metadata": {},
   "source": [
    "# Table 2 in our paper\n",
    "\n"
   ]
  },
  {
   "cell_type": "code",
   "execution_count": 16,
   "metadata": {},
   "outputs": [
    {
     "data": {
      "text/html": [
       "<div>\n",
       "<style scoped>\n",
       "    .dataframe tbody tr th:only-of-type {\n",
       "        vertical-align: middle;\n",
       "    }\n",
       "\n",
       "    .dataframe tbody tr th {\n",
       "        vertical-align: top;\n",
       "    }\n",
       "\n",
       "    .dataframe thead th {\n",
       "        text-align: right;\n",
       "    }\n",
       "</style>\n",
       "<table border=\"1\" class=\"dataframe\">\n",
       "  <thead>\n",
       "    <tr style=\"text-align: right;\">\n",
       "      <th></th>\n",
       "      <th>Model Estimate</th>\n",
       "      <th>Neg. Loglik</th>\n",
       "    </tr>\n",
       "  </thead>\n",
       "  <tbody>\n",
       "    <tr>\n",
       "      <th>0</th>\n",
       "      <td>PHOTO</td>\n",
       "      <td>867079.6</td>\n",
       "    </tr>\n",
       "    <tr>\n",
       "      <th>1</th>\n",
       "      <td>StarNet PSF</td>\n",
       "      <td>866502.9</td>\n",
       "    </tr>\n",
       "    <tr>\n",
       "      <th>2</th>\n",
       "      <td>StarNet background</td>\n",
       "      <td>365066.4</td>\n",
       "    </tr>\n",
       "    <tr>\n",
       "      <th>3</th>\n",
       "      <td>StarNet background + PSF</td>\n",
       "      <td>339508.75</td>\n",
       "    </tr>\n",
       "  </tbody>\n",
       "</table>\n",
       "</div>"
      ],
      "text/plain": [
       "             Model Estimate Neg. Loglik\n",
       "0                     PHOTO    867079.6\n",
       "1               StarNet PSF    866502.9\n",
       "2        StarNet background    365066.4\n",
       "3  StarNet background + PSF   339508.75"
      ]
     },
     "execution_count": 16,
     "metadata": {},
     "output_type": "execute_result"
    }
   ],
   "source": [
    "chi_sq_stats_df"
   ]
  },
  {
   "cell_type": "code",
   "execution_count": null,
   "metadata": {},
   "outputs": [],
   "source": []
  },
  {
   "cell_type": "code",
   "execution_count": null,
   "metadata": {},
   "outputs": [],
   "source": []
  },
  {
   "cell_type": "code",
   "execution_count": null,
   "metadata": {},
   "outputs": [],
   "source": []
  }
 ],
 "metadata": {
  "kernelspec": {
   "display_name": "deblending_pytorch_testing",
   "language": "python",
   "name": "deblending_pytorch_testing"
  },
  "language_info": {
   "codemirror_mode": {
    "name": "ipython",
    "version": 3
   },
   "file_extension": ".py",
   "mimetype": "text/x-python",
   "name": "python",
   "nbconvert_exporter": "python",
   "pygments_lexer": "ipython3",
   "version": "3.8.5"
  }
 },
 "nbformat": 4,
 "nbformat_minor": 2
}
