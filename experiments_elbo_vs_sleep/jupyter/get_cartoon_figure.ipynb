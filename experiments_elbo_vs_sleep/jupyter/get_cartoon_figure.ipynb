{
 "cells": [
  {
   "cell_type": "code",
   "execution_count": 1,
   "metadata": {},
   "outputs": [],
   "source": [
    "import numpy as np\n",
    "import torch\n",
    "\n",
    "import json\n",
    "\n",
    "import matplotlib.pyplot as plt\n",
    "\n",
    "import deblending_runjingdev.simulated_datasets_lib as simulated_datasets_lib\n",
    "import deblending_runjingdev.psf_transform_lib as psf_transform_lib\n",
    "import deblending_runjingdev.plotting_utils as plotting_utils\n",
    "import deblending_runjingdev.elbo_lib as elbo_lib\n",
    "\n",
    "np.random.seed(34534)"
   ]
  },
  {
   "cell_type": "code",
   "execution_count": 2,
   "metadata": {},
   "outputs": [],
   "source": [
    "device = torch.device(\"cuda:0\" if torch.cuda.is_available() else \"cpu\")"
   ]
  },
  {
   "cell_type": "code",
   "execution_count": 3,
   "metadata": {},
   "outputs": [],
   "source": [
    "np.random.seed(5759)\n",
    "_ = torch.manual_seed(1345)\n"
   ]
  },
  {
   "cell_type": "code",
   "execution_count": 4,
   "metadata": {},
   "outputs": [],
   "source": [
    "slen = 10"
   ]
  },
  {
   "cell_type": "code",
   "execution_count": null,
   "metadata": {},
   "outputs": [],
   "source": []
  },
  {
   "cell_type": "code",
   "execution_count": 5,
   "metadata": {},
   "outputs": [],
   "source": [
    "test_image_file = '../test_image_20x20.npz'\n",
    "full_image = torch.Tensor(np.load(test_image_file)['image']).unsqueeze(0).to(device)\n",
    "true_locs = torch.Tensor(np.load(test_image_file)['locs']).to(device)\n",
    "true_fluxes = torch.Tensor(np.load(test_image_file)['fluxes']).to(device)\n"
   ]
  },
  {
   "cell_type": "code",
   "execution_count": 6,
   "metadata": {},
   "outputs": [],
   "source": [
    "image = full_image[0, 0, 0:10, 0:10]"
   ]
  },
  {
   "cell_type": "code",
   "execution_count": null,
   "metadata": {},
   "outputs": [],
   "source": []
  },
  {
   "cell_type": "code",
   "execution_count": null,
   "metadata": {},
   "outputs": [],
   "source": []
  },
  {
   "cell_type": "code",
   "execution_count": 8,
   "metadata": {},
   "outputs": [
    {
     "data": {
      "image/png": "[encoded data removed]",
      "text/plain": [
       "<Figure size 864x288 with 3 Axes>"
      ]
     },
     "metadata": {
      "needs_background": "light"
     },
     "output_type": "display_data"
    }
   ],
   "source": [
    "# do a cartoon plot\n",
    "\n",
    "fig, axarr = plt.subplots(1, 3, figsize=(12, 4))\n",
    "\n",
    "axarr[0].matshow(image, cmap=plt.cm.gray)\n",
    "\n",
    "# plot locations\n",
    "axarr[0].scatter(np.array([3, 7]), \n",
    "                 np.array([2, 5]),\n",
    "                color = 'blue', s = 80, \n",
    "                label = 'Correct loc')\n",
    "\n",
    "# plot \"estimated\" locations\n",
    "axarr[0].scatter(np.array([2.7, 3.2]), \n",
    "                 np.array([1.8, 2.3]),\n",
    "                color = 'red', s = 80, marker = 'x',\n",
    "                label = 'Estimated loc')\n",
    "\n",
    "\n",
    "# line segement defining alpha\n",
    "axarr[0].arrow(3.3, 2.4,\n",
    "               3.7, 2.6, \n",
    "            length_includes_head = True, \n",
    "            color = 'white', \n",
    "            alpha = 0.7, linewidth = 3)\n",
    "\n",
    "axarr[0].text(4.5, 4.5, '$\\delta$', color = 'white', size = 18)\n",
    "axarr[0].set_yticks([])\n",
    "axarr[0].set_xticks([])\n",
    "axarr[0].legend()\n",
    "\n",
    "x = torch.Tensor(np.linspace(-5, 1, 100))\n",
    "axarr[1].plot(x, torch.sigmoid(x**2) + \n",
    "                  (torch.sigmoid((x + 4.5)**2) + 0.7) * 0.3 )\n",
    "\n",
    "x = torch.Tensor(np.linspace(-5, 1, 100))\n",
    "axarr[2].plot(x, x**2)\n",
    "\n",
    "for i in range(1, 3): \n",
    "    axarr[i].set_yticks([])\n",
    "    axarr[i].set_xticks([0])\n",
    "    axarr[i].set_xlabel('delta', fontsize = 16)\n",
    "    \n",
    "axarr[1].set_ylabel('Neg. Elbo', fontsize = 16)\n",
    "axarr[2].set_ylabel('Expected forward KL', fontsize = 16)\n",
    "\n",
    "fig.tight_layout()\n",
    "\n",
    "plt.savefig('../../figures/local_minima_cartoon.png')"
   ]
  },
  {
   "cell_type": "raw",
   "metadata": {},
   "source": []
  },
  {
   "cell_type": "raw",
   "metadata": {},
   "source": [
    "# do a cartoon plot\n",
    "\n",
    "fig, axarr = plt.subplots(1, 2, figsize=(8, 4))\n",
    "\n",
    "axarr[0].matshow(image, cmap=plt.cm.gray)\n",
    "\n",
    "# plot locations\n",
    "axarr[0].scatter(np.array([3, 7]), \n",
    "                 np.array([2, 5]),\n",
    "                color = 'blue', s = 80, \n",
    "                label = 'Correct loc')\n",
    "\n",
    "# plot \"estimated\" locations\n",
    "axarr[0].scatter(np.array([2.7, 3.2]), \n",
    "                 np.array([1.8, 2.3]),\n",
    "                color = 'red', s = 80, marker = 'x',\n",
    "                label = 'Estimated loc')\n",
    "\n",
    "\n",
    "# line segement defining alpha\n",
    "axarr[0].arrow(3.3, 2.4,\n",
    "               3.7, 2.6, \n",
    "            length_includes_head = True, \n",
    "            color = 'white', \n",
    "            alpha = 0.7, linewidth = 3)\n",
    "\n",
    "axarr[0].text(4.5, 4.5, '$\\delta$', color = 'white', size = 18)\n",
    "axarr[0].set_yticks([])\n",
    "axarr[0].set_xticks([])\n",
    "axarr[0].legend()\n",
    "\n",
    "x = torch.Tensor(np.linspace(-5, 1, 100))\n",
    "axarr[1].plot(x, torch.sigmoid(x**2) + \n",
    "                  (torch.sigmoid((x + 4.5)**2) + 0.7) * 0.3 )\n",
    "\n",
    "# x = torch.Tensor(np.linspace(-5, 1, 100))\n",
    "# axarr[2].plot(x, x**2)\n",
    "\n",
    "for i in range(1, 2): \n",
    "    axarr[i].set_yticks([])\n",
    "    axarr[i].set_xticks([0])\n",
    "    axarr[i].set_xlabel('delta', fontsize = 16)\n",
    "    \n",
    "axarr[1].set_ylabel('KL($q$ | $p$)', fontsize = 16)\n",
    "\n",
    "fig.tight_layout()\n",
    "\n",
    "plt.savefig('../../figures/local_minima_cartoon2.png')"
   ]
  },
  {
   "cell_type": "raw",
   "metadata": {},
   "source": []
  },
  {
   "cell_type": "raw",
   "metadata": {},
   "source": []
  },
  {
   "cell_type": "raw",
   "metadata": {},
   "source": []
  },
  {
   "cell_type": "raw",
   "metadata": {
    "scrolled": true
   },
   "source": [
    "fig, axarr = plt.subplots(1, 3, figsize=(12, 4))\n",
    "\n",
    "# plot images\n",
    "axarr[0].matshow(image[0, 0], cmap=plt.cm.gray)\n",
    "axarr[1].matshow(recon_image[0, 0], cmap=plt.cm.gray)\n",
    "diff = image - recon_image\n",
    "im2 = axarr[2].matshow(diff[0, 0], vmax = diff.abs().max(), vmin = - diff.abs().max(), \n",
    "                    cmap = plt.get_cmap('bwr'))\n",
    "fig.colorbar(im2, ax = axarr[2])\n",
    "\n",
    "# line segement defining alpha\n",
    "axarr[0].arrow(true_loc[0, 0, 1] * (slen - 1), \n",
    "              true_loc[0, 0, 1] * (slen - 1), \n",
    "              4.9, 4.9, \n",
    "            length_includes_head = True, \n",
    "               color = 'white', \n",
    "               alpha = 0.7, linewidth = 3)\n",
    "\n",
    "axarr[0].text(4.5, 4.5, '$\\delta$', color = 'white', size = 18)\n",
    "\n",
    "# plot locations\n",
    "axarr[0].scatter(true_loc[0, :, 1] * (slen - 1), \n",
    "           true_loc[0, :, 0] * (slen - 1), \n",
    "           color = 'blue', s = 80, \n",
    "                label = 'True')\n",
    "\n",
    "axarr[0].scatter(est_loc[0, :, 1] * (slen - 1), \n",
    "           est_loc[0, :, 0] * (slen - 1), \n",
    "           color = 'red', marker = 'x', s = 80, \n",
    "                label = 'Estimated')\n",
    "axarr[0].legend()\n",
    "\n",
    "for i in range(3): \n",
    "    axarr[i].set_yticks([])\n",
    "    axarr[i].set_xticks([])\n",
    "\n",
    "axarr[0].set_title('Observed image', fontsize = 16)\n",
    "axarr[1].set_title('Estimated', fontsize = 16)\n",
    "axarr[2].set_title('Observed - Estimated', fontsize = 16);\n",
    "\n",
    "fig.tight_layout()\n",
    "\n",
    "fig.savefig('../../../writing/deblending_starfields_paper/figures/gradzero_cartoon.png')"
   ]
  },
  {
   "cell_type": "raw",
   "metadata": {},
   "source": []
  },
  {
   "cell_type": "raw",
   "metadata": {},
   "source": []
  },
  {
   "cell_type": "raw",
   "metadata": {},
   "source": [
    "nrm = torch.sqrt(((true_loc - est_loc)**2).sum())\n",
    "direction = (true_loc - est_loc) / nrm"
   ]
  },
  {
   "cell_type": "raw",
   "metadata": {},
   "source": [
    "delta_vec = np.linspace(0, nrm * 1.1, 100)\n",
    "neg_loglik_vec = torch.zeros(len(delta_vec))\n",
    "\n",
    "for i in range(len(delta_vec)): \n",
    "    _, neg_loglik_vec[i], _, recon= elbo_lib.get_neg_elbo(simulator, image, est_loc + delta_vec[i] * direction, \n",
    "                         true_flux, true_n_stars, \n",
    "                         log_q_locs = torch.Tensor([0.]), \n",
    "                         log_q_fluxes = torch.Tensor([0.]), \n",
    "                         log_q_n_stars = torch.Tensor([0.]), \n",
    "                         mean_stars = 1)\n",
    "    \n",
    "#     plt.matshow(recon[0, 0])"
   ]
  },
  {
   "cell_type": "raw",
   "metadata": {},
   "source": [
    "plt.plot(delta_vec, neg_loglik_vec.numpy(), '-x')"
   ]
  },
  {
   "cell_type": "raw",
   "metadata": {},
   "source": []
  },
  {
   "cell_type": "raw",
   "metadata": {},
   "source": [
    "# do a cartoon plot\n",
    "\n",
    "fig, axarr = plt.subplots(1, 2, figsize=(8, 4))\n",
    "\n",
    "x = torch.Tensor(np.linspace(-1, 5, 100))\n",
    "axarr[0].plot(x, torch.sigmoid(x**2))\n",
    "\n",
    "x = torch.Tensor(np.linspace(-1, 5, 100))\n",
    "axarr[1].plot(x, x**2)\n",
    "\n",
    "for i in range(2): \n",
    "    axarr[i].set_yticks([])\n",
    "    axarr[i].set_xticks([0])\n",
    "    axarr[i].set_xlabel('delta', fontsize = 16)\n",
    "    \n",
    "axarr[0].set_ylabel('Neg. Elbo', fontsize = 16)\n",
    "axarr[1].set_ylabel('Sleep loss', fontsize = 16)\n",
    "\n",
    "fig.tight_layout()\n",
    "fig.savefig('../../../writing/deblending_starfields_paper/figures/gradzero_cartoon2.png')"
   ]
  },
  {
   "cell_type": "raw",
   "metadata": {},
   "source": []
  },
  {
   "cell_type": "raw",
   "metadata": {},
   "source": [
    "# do a cartoon plot\n",
    "\n",
    "fig, axarr = plt.subplots(1, 3, figsize=(12, 4))\n",
    "\n",
    "axarr[0].matshow(image[0, 0], cmap=plt.cm.gray)\n",
    "\n",
    "# line segement defining alpha\n",
    "axarr[0].arrow(true_loc[0, 0, 1] * (slen - 1), \n",
    "              true_loc[0, 0, 1] * (slen - 1), \n",
    "              4.9, 4.9, \n",
    "            length_includes_head = True, \n",
    "               color = 'white', \n",
    "               alpha = 0.7, linewidth = 3)\n",
    "\n",
    "axarr[0].text(4.5, 4.5, '$\\delta$', color = 'white', size = 18)\n",
    "axarr[0].set_yticks([])\n",
    "axarr[0].set_xticks([])\n",
    "\n",
    "# plot locations\n",
    "axarr[0].scatter(true_loc[0, :, 1] * (slen - 1), \n",
    "           true_loc[0, :, 0] * (slen - 1), \n",
    "           color = 'blue', s = 80, \n",
    "                label = 'Correct loc')\n",
    "\n",
    "axarr[0].scatter(est_loc[0, :, 1] * (slen - 1), \n",
    "           est_loc[0, :, 0] * (slen - 1), \n",
    "           color = 'red', marker = 'x', s = 80, \n",
    "                label = 'Est. loc')\n",
    "axarr[0].legend()\n",
    "\n",
    "x = torch.Tensor(np.linspace(-1, 5, 100))\n",
    "axarr[1].plot(x, torch.sigmoid(x**2))\n",
    "\n",
    "x = torch.Tensor(np.linspace(-1, 5, 100))\n",
    "axarr[2].plot(x, x**2)\n",
    "\n",
    "for i in range(1, 3): \n",
    "    axarr[i].set_yticks([])\n",
    "    axarr[i].set_xticks([0])\n",
    "    axarr[i].set_xlabel('delta', fontsize = 16)\n",
    "    \n",
    "axarr[1].set_ylabel('Neg. Elbo', fontsize = 16)\n",
    "axarr[2].set_ylabel('Sleep loss', fontsize = 16)\n",
    "\n",
    "fig.tight_layout()\n",
    "fig.savefig('../../../writing/deblending_starfields_paper/figures/gradzero_cartoon3.png')"
   ]
  },
  {
   "cell_type": "raw",
   "metadata": {},
   "source": []
  },
  {
   "cell_type": "raw",
   "metadata": {},
   "source": []
  }
 ],
 "metadata": {
  "kernelspec": {
   "display_name": "pytorch_update",
   "language": "python",
   "name": "pytorch_update"
  },
  "language_info": {
   "codemirror_mode": {
    "name": "ipython",
    "version": 3
   },
   "file_extension": ".py",
   "mimetype": "text/x-python",
   "name": "python",
   "nbconvert_exporter": "python",
   "pygments_lexer": "ipython3",
   "version": "3.6.8"
  }
 },
 "nbformat": 4,
 "nbformat_minor": 2
}
