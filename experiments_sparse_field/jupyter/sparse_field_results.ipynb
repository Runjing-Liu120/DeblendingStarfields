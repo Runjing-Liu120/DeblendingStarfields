{
 "cells": [
  {
   "cell_type": "code",
   "execution_count": 1,
   "metadata": {
    "scrolled": true
   },
   "outputs": [
    {
     "name": "stdout",
     "output_type": "stream",
     "text": [
      "device:  cuda:6\n"
     ]
    }
   ],
   "source": [
    "import numpy as np\n",
    "import torch\n",
    "\n",
    "import matplotlib.pyplot as plt\n",
    "\n",
    "import deblending_runjingdev.sdss_dataset_lib as sdss_dataset_lib\n",
    "import deblending_runjingdev.image_utils as image_utils\n",
    "\n",
    "import deblending_runjingdev.starnet_lib as starnet_lib\n",
    "\n",
    "import sys\n",
    "sys.path.insert(0, '../')\n",
    "from sparse_field_lib import load_data\n",
    "\n",
    "import json\n",
    "\n",
    "np.random.seed(34534)\n",
    "\n",
    "from deblending_runjingdev.which_device import device\n",
    "print('device: ', device)\n"
   ]
  },
  {
   "cell_type": "code",
   "execution_count": null,
   "metadata": {},
   "outputs": [],
   "source": []
  },
  {
   "cell_type": "markdown",
   "metadata": {},
   "source": [
    "# Load data"
   ]
  },
  {
   "cell_type": "code",
   "execution_count": 2,
   "metadata": {},
   "outputs": [],
   "source": [
    "bands = [2]"
   ]
  },
  {
   "cell_type": "code",
   "execution_count": 3,
   "metadata": {},
   "outputs": [
    {
     "name": "stdout",
     "output_type": "stream",
     "text": [
      "loading sdss image from ../../sdss_stage_dir/94/1/12/frame-r-000094-1-0012.fits\n"
     ]
    },
    {
     "name": "stderr",
     "output_type": "stream",
     "text": [
      "WARNING: FITSFixedWarning: RADECSYS= 'ICRS ' / International Celestial Ref. System \n",
      "the RADECSYS keyword is deprecated, use RADESYSa. [astropy.wcs.wcs]\n",
      "WARNING: FITSFixedWarning: 'datfix' made the change 'Set MJD-OBS to 51075.000000 from DATE-OBS.\n",
      "Changed DATE-OBS from '19/09/98' to '1998-09-19''. [astropy.wcs.wcs]\n"
     ]
    }
   ],
   "source": [
    "image_full, coadd_fits_file, wcs_list, sdss_data = load_data(sdss_dir='../../sdss_stage_dir/', \n",
    "                                                             bands = bands, \n",
    "                                                             align_bands = False)\n",
    "\n",
    "image_full = image_full.to(device)"
   ]
  },
  {
   "cell_type": "code",
   "execution_count": null,
   "metadata": {},
   "outputs": [],
   "source": []
  },
  {
   "cell_type": "markdown",
   "metadata": {},
   "source": [
    "## Get coadded catalog"
   ]
  },
  {
   "cell_type": "code",
   "execution_count": 4,
   "metadata": {},
   "outputs": [],
   "source": [
    "true_ra = coadd_fits_file['ra'][:]\n",
    "true_decl = coadd_fits_file['dec'][:]\n",
    "\n",
    "true_mag_r = coadd_fits_file['psfmag_r'][:]\n",
    "true_mag_i = coadd_fits_file['psfmag_i'][:]\n",
    "\n",
    "which_stars = (coadd_fits_file['probpsf'][:] == 1)\n",
    "which_galx = (coadd_fits_file['probpsf'][:] == 0) \n",
    "\n",
    "which_bright_stars = (coadd_fits_file['probpsf'][:] == 1) & (true_mag_r < 22)\n",
    "which_bright_galx = (coadd_fits_file['probpsf'][:] == 0) & (true_mag_r < 22)"
   ]
  },
  {
   "cell_type": "code",
   "execution_count": 5,
   "metadata": {},
   "outputs": [],
   "source": [
    "# convert magnitude to fluxes\n",
    "true_mags = torch.Tensor([true_mag_r, true_mag_i]).transpose(0, 1)\n",
    "nelec_per_nmgy = torch.Tensor(sdss_data[0]['nelec_per_nmgy'].mean(-1))\n",
    "\n",
    "true_fluxes = sdss_dataset_lib.convert_mag_to_nmgy(true_mags) * nelec_per_nmgy.unsqueeze(0)"
   ]
  },
  {
   "cell_type": "code",
   "execution_count": 6,
   "metadata": {},
   "outputs": [],
   "source": [
    "pix_coords = wcs_list[0].wcs_world2pix(true_ra, true_decl, 0, ra_dec_order = True)"
   ]
  },
  {
   "cell_type": "code",
   "execution_count": 7,
   "metadata": {},
   "outputs": [],
   "source": [
    "# note! unlike before, these are pixel coordinates, not parameterized between 0 and 1\n",
    "true_locs = torch.Tensor([pix_coords[1], pix_coords[0]]).transpose(0, 1)"
   ]
  },
  {
   "cell_type": "code",
   "execution_count": null,
   "metadata": {},
   "outputs": [],
   "source": []
  },
  {
   "cell_type": "markdown",
   "metadata": {},
   "source": [
    "# Load encoder"
   ]
  },
  {
   "cell_type": "code",
   "execution_count": 8,
   "metadata": {},
   "outputs": [],
   "source": [
    "star_encoder = starnet_lib.StarEncoder(slen = 500, \n",
    "                                       ptile_slen = 50,\n",
    "                                       step = 50,\n",
    "                                       edge_padding = 0,\n",
    "                                       n_bands = len(bands), \n",
    "                                       max_detections = 3, \n",
    "                                       track_running_stats = False)\n"
   ]
  },
  {
   "cell_type": "code",
   "execution_count": 9,
   "metadata": {},
   "outputs": [],
   "source": [
    "star_encoder.load_state_dict(torch.load('../starnet_sparsefield', \n",
    "                               map_location=lambda storage, loc: storage))\n",
    "\n",
    "\n",
    "star_encoder.eval(); \n",
    "star_encoder.to(device);"
   ]
  },
  {
   "cell_type": "code",
   "execution_count": null,
   "metadata": {},
   "outputs": [],
   "source": []
  },
  {
   "cell_type": "markdown",
   "metadata": {},
   "source": [
    "# Get StarNet catalog"
   ]
  },
  {
   "cell_type": "code",
   "execution_count": 10,
   "metadata": {},
   "outputs": [],
   "source": [
    "### patch the full image\n",
    "\n",
    "# take the first 1450 x 2000 pixels : so the image is a whole-multiple of tiles\n",
    "image_patches = image_utils.tile_images(image_full[:, 0:1450, 0:2000].unsqueeze(0), \n",
    "                                        subimage_slen = star_encoder.ptile_slen, \n",
    "                                        step = star_encoder.step)\n",
    "\n",
    "tile_coords = image_utils.get_tile_coords(1450, 2000, \n",
    "                                          subimage_slen = star_encoder.ptile_slen, \n",
    "                                          step = star_encoder.step)"
   ]
  },
  {
   "cell_type": "code",
   "execution_count": 11,
   "metadata": {},
   "outputs": [],
   "source": [
    "patch_loc_mean, patch_loc_log_var, \\\n",
    "    patch_log_flux_mean, patch_log_flux_log_var, patch_log_probs = star_encoder(image_patches)"
   ]
  },
  {
   "cell_type": "code",
   "execution_count": 12,
   "metadata": {},
   "outputs": [
    {
     "name": "stdout",
     "output_type": "stream",
     "text": [
      "23.9 ms ± 13.6 µs per loop (mean ± std. dev. of 7 runs, 10 loops each)\n"
     ]
    }
   ],
   "source": [
    "# time for a forward pass\n",
    "%timeit star_encoder(image_patches)"
   ]
  },
  {
   "cell_type": "code",
   "execution_count": 13,
   "metadata": {},
   "outputs": [],
   "source": [
    "map_locs, map_fluxes, map_n_stars = \\\n",
    "    image_utils.get_full_params_from_tile_params(patch_loc_mean,\n",
    "                                                 patch_log_flux_mean,\n",
    "                                                 tile_coords,\n",
    "                                                 full_slen = 1450,\n",
    "                                                 stamp_slen = star_encoder.ptile_slen,\n",
    "                                                 edge_padding = 0.0,\n",
    "                                                 full_slen2 = 2000)"
   ]
  },
  {
   "cell_type": "code",
   "execution_count": 14,
   "metadata": {},
   "outputs": [],
   "source": [
    "map_locs_x0 = map_locs[0, :, 0].detach() * (1450 - 1)\n",
    "map_locs_x1 = map_locs[0, :, 1].detach() * (2000 - 1)"
   ]
  },
  {
   "cell_type": "code",
   "execution_count": 15,
   "metadata": {},
   "outputs": [],
   "source": [
    "map_locs = torch.stack([map_locs_x0, map_locs_x1]).transpose(0, 1)"
   ]
  },
  {
   "cell_type": "code",
   "execution_count": null,
   "metadata": {},
   "outputs": [],
   "source": []
  },
  {
   "cell_type": "markdown",
   "metadata": {},
   "source": [
    "# Get PHOTO results"
   ]
  },
  {
   "cell_type": "code",
   "execution_count": 16,
   "metadata": {},
   "outputs": [],
   "source": [
    "import fitsio"
   ]
  },
  {
   "cell_type": "code",
   "execution_count": 17,
   "metadata": {},
   "outputs": [],
   "source": [
    "photo_fits_file = fitsio.FITS('./../../sdss_stage_dir/94/1/12/photoObj-000094-1-0012.fits')[1]"
   ]
  },
  {
   "cell_type": "code",
   "execution_count": 18,
   "metadata": {
    "scrolled": true
   },
   "outputs": [
    {
     "data": {
      "text/plain": [
       "456"
      ]
     },
     "execution_count": 18,
     "metadata": {},
     "output_type": "execute_result"
    }
   ],
   "source": [
    "photo_is_star = photo_fits_file['type'][:][:, 2] == 6\n",
    "\n",
    "photo_is_star.sum()"
   ]
  },
  {
   "cell_type": "code",
   "execution_count": 19,
   "metadata": {},
   "outputs": [],
   "source": [
    "photo_ra = photo_fits_file['ra'][:][photo_is_star]\n",
    "photo_decl = photo_fits_file['dec'][:][photo_is_star]\n",
    "\n",
    "photo_mag_r = photo_fits_file['PSFMAG'][:][:, 2][photo_is_star]\n",
    "photo_mag_i = photo_fits_file['PSFMAG'][:][:, 3][photo_is_star]\n",
    "\n",
    "photo_which_bright = (photo_mag_r < 22)"
   ]
  },
  {
   "cell_type": "code",
   "execution_count": 20,
   "metadata": {},
   "outputs": [],
   "source": [
    "photo_pix_coords = wcs_list[0].wcs_world2pix(photo_ra, photo_decl, 0, ra_dec_order = True)"
   ]
  },
  {
   "cell_type": "code",
   "execution_count": 21,
   "metadata": {},
   "outputs": [],
   "source": [
    "photo_locs = torch.Tensor([photo_pix_coords[1], photo_pix_coords[0]]).transpose(0, 1)"
   ]
  },
  {
   "cell_type": "code",
   "execution_count": null,
   "metadata": {},
   "outputs": [],
   "source": []
  },
  {
   "cell_type": "markdown",
   "metadata": {},
   "source": [
    "# check out a subimage"
   ]
  },
  {
   "cell_type": "code",
   "execution_count": 22,
   "metadata": {},
   "outputs": [],
   "source": [
    "def add_points(fig, est_locs, x0, x1, subimage_slen, \n",
    "               color = 'c', marker = 'x', alpha = 1.0, markersize = 12): \n",
    "\n",
    "    which_locs = (est_locs[:, 0] > x0) & \\\n",
    "                    (est_locs[:, 0] < (x0 + subimage_slen - 1)) & \\\n",
    "                    (est_locs[:, 1] > x1) & \\\n",
    "                    (est_locs[:, 1] < (x1 + subimage_slen - 1))\n",
    "    \n",
    "    locs_filtered = (est_locs[which_locs, :] - torch.Tensor([[x0, x1]]))\n",
    "    \n",
    "    fig.scatter(locs_filtered[:, 1].cpu().numpy(),\n",
    "                locs_filtered[:, 0].cpu().numpy(), \n",
    "                color = color,\n",
    "                marker = marker,\n",
    "                alpha = alpha, \n",
    "                s = markersize)"
   ]
  },
  {
   "cell_type": "code",
   "execution_count": 23,
   "metadata": {
    "scrolled": false
   },
   "outputs": [
    {
     "data": {
      "image/png": "[encoded data removed]",
      "text/plain": [
       "<Figure size 288x288 with 1 Axes>"
      ]
     },
     "metadata": {},
     "output_type": "display_data"
    }
   ],
   "source": [
    "# x0 = 505\n",
    "# x1 = 505\n",
    "# subimage_slen = 500\n",
    "\n",
    "x0 = 1180\n",
    "x1 = 180\n",
    "subimage_slen = 70\n",
    "\n",
    "f, axarr = plt.subplots(1, 1, figsize=(4, 4))\n",
    "\n",
    "tmp_image = image_full[0, x0:(x0 + subimage_slen), x1:(x1 + subimage_slen)].cpu().numpy()\n",
    "axarr.matshow(tmp_image,\n",
    "              cmap=plt.cm.gray)\n",
    "\n",
    "# plot true star locations\n",
    "add_points(axarr, \n",
    "           true_locs[which_bright_stars], \n",
    "           x0,\n",
    "           x1,\n",
    "           subimage_slen = subimage_slen, \n",
    "           color = 'b',\n",
    "           marker = 'o',\n",
    "           alpha = 0.5,\n",
    "           markersize = 100)\n",
    "\n",
    "# plot true galaxy locations\n",
    "add_points(axarr, \n",
    "           true_locs[which_bright_galx], \n",
    "           x0,\n",
    "           x1,\n",
    "           subimage_slen = subimage_slen, \n",
    "           color = 'lime', \n",
    "           marker = 'o', \n",
    "           alpha = 1.0, \n",
    "           markersize = 75)\n",
    "\n",
    "# plot PHOTO detections\n",
    "# add_points(axarr, photo_locs,\n",
    "#            x0, x1, subimage_slen = subimage_slen, \n",
    "#            color = 'c', marker = 'x', alpha = 1.0, markersize = 80)\n",
    "\n",
    "# plot StarNet detections\n",
    "add_points(axarr, \n",
    "           map_locs.cpu(),\n",
    "           x0, \n",
    "           x1,\n",
    "           subimage_slen = subimage_slen, \n",
    "           color = 'r',\n",
    "           marker = 'x', \n",
    "           alpha = 1.0,\n",
    "           markersize = 80)\n",
    "\n",
    "axarr.legend(('true star', 'true galaxy', 'StarNet'))\n",
    "\n",
    "axarr.set_xticks([]);\n",
    "axarr.set_yticks([]);\n",
    "\n",
    "f.tight_layout()\n",
    "f.savefig('../../figures/sparse_field/sparse_field_detections.png')"
   ]
  },
  {
   "cell_type": "code",
   "execution_count": null,
   "metadata": {},
   "outputs": [],
   "source": []
  },
  {
   "cell_type": "markdown",
   "metadata": {},
   "source": [
    "# Get summary statistics"
   ]
  },
  {
   "cell_type": "code",
   "execution_count": 24,
   "metadata": {},
   "outputs": [],
   "source": [
    "def get_loc_error_on_subimage(est_locs, true_locs, x0, x1, subimage_slen0, subimage_slen1): \n",
    "    # Here est locs and true locs are in pixel coordinates! \n",
    "    \n",
    "    which_est_locs = (est_locs[:, 0] > x0) & \\\n",
    "                    (est_locs[:, 0] < (x0 + subimage_slen0 - 1)) & \\\n",
    "                    (est_locs[:, 1] > x1) & \\\n",
    "                    (est_locs[:, 1] < (x1 + subimage_slen1 - 1))\n",
    "    \n",
    "    est_locs_filtered = est_locs[which_est_locs, :] \n",
    "    \n",
    "    which_true_locs = (true_locs[:, 0] > x0) & \\\n",
    "                    (true_locs[:, 0] < (x0 + subimage_slen0 - 1)) & \\\n",
    "                    (true_locs[:, 1] > x1) & \\\n",
    "                    (true_locs[:, 1] < (x1 + subimage_slen1 - 1))\n",
    "    \n",
    "    true_locs_filtered = true_locs[which_true_locs, :] \n",
    "    \n",
    "    # L\\inf error \n",
    "    # true locs x est locs\n",
    "    error_mat = torch.abs(est_locs_filtered.unsqueeze(0) - true_locs_filtered.unsqueeze(1)).max(2)[0]\n",
    "    \n",
    "    # for each true loc find closest estimated loc\n",
    "    error_vec = error_mat.min(1)[0]\n",
    "        \n",
    "    return error_vec"
   ]
  },
  {
   "cell_type": "code",
   "execution_count": null,
   "metadata": {},
   "outputs": [],
   "source": []
  },
  {
   "cell_type": "markdown",
   "metadata": {},
   "source": [
    "### Get tpr as function of magnitude"
   ]
  },
  {
   "cell_type": "code",
   "execution_count": 25,
   "metadata": {},
   "outputs": [],
   "source": [
    "bins = np.concatenate((np.array([15]), \n",
    "                          np.arange(19, 22.2, 0.4), \n",
    "                          np.array([100])))"
   ]
  },
  {
   "cell_type": "code",
   "execution_count": 26,
   "metadata": {},
   "outputs": [
    {
     "name": "stdout",
     "output_type": "stream",
     "text": [
      "n-true stars:  77\n",
      "n-true stars:  10\n",
      "n-true stars:  14\n",
      "n-true stars:  13\n",
      "n-true stars:  22\n",
      "n-true stars:  30\n",
      "n-true stars:  34\n",
      "n-true stars:  34\n",
      "n-true stars:  112\n"
     ]
    }
   ],
   "source": [
    "tpr_vec = np.zeros(len(bins) - 1)\n",
    "for i in range(len(bins) - 1): \n",
    "    which_mags = (true_mag_r > bins[i]) & (true_mag_r < bins[i + 1])\n",
    "    \n",
    "    print('n-true stars: ', (which_stars & which_mags).sum())\n",
    "    \n",
    "    error = get_loc_error_on_subimage(map_locs.cpu(),\n",
    "                                      true_locs[which_stars & which_mags].cpu(), \n",
    "                                      x0 = 100, x1 = 100, \n",
    "                                      subimage_slen0 = 1300, \n",
    "                                      subimage_slen1 = 1900)\n",
    "    \n",
    "    tpr_vec[i] = (error < 5).float().mean()"
   ]
  },
  {
   "cell_type": "code",
   "execution_count": 27,
   "metadata": {},
   "outputs": [],
   "source": [
    "photo_tpr_vec = np.zeros(len(bins) - 1)\n",
    "for i in range(len(bins) - 1): \n",
    "    which_mags = (true_mag_r > bins[i]) & (true_mag_r < bins[i + 1])\n",
    "    \n",
    "    error = get_loc_error_on_subimage(photo_locs, \n",
    "                                      true_locs[which_stars & which_mags], \n",
    "                                      x0 = 100, x1 = 100, \n",
    "                                      subimage_slen0 = 1300, \n",
    "                                      subimage_slen1 = 1900)\n",
    "    \n",
    "    photo_tpr_vec[i] = (error < 5).float().mean()"
   ]
  },
  {
   "cell_type": "code",
   "execution_count": 28,
   "metadata": {},
   "outputs": [],
   "source": [
    "axis_label_size = 16\n",
    "ticksize = 12\n",
    "legendsize = 12\n",
    "markersize = 10\n",
    "linewidth = 2"
   ]
  },
  {
   "cell_type": "code",
   "execution_count": 29,
   "metadata": {},
   "outputs": [
    {
     "data": {
      "image/png": "[encoded data removed]",
      "text/plain": [
       "<Figure size 432x324 with 1 Axes>"
      ]
     },
     "metadata": {
      "needs_background": "light"
     },
     "output_type": "display_data"
    }
   ],
   "source": [
    "fig, axarr = plt.subplots(1, 1, figsize=(6, 4.5))\n",
    "\n",
    "x_tmp = np.arange(len(bins) - 1)\n",
    "\n",
    "axarr.plot(x_tmp, tpr_vec, '-x', \n",
    "              markersize = markersize, linewidth = linewidth,\n",
    "              color = 'r', label = 'StarNet')\n",
    "\n",
    "\n",
    "axarr.plot(x_tmp, photo_tpr_vec, '-x', \n",
    "              markersize = markersize, linewidth = linewidth,\n",
    "              color = 'deepskyblue', label = 'PHOTO')\n",
    "\n",
    "axarr.set_xlabel('True magnitude', fontsize = axis_label_size)\n",
    "axarr.set_ylabel('True positive rate', fontsize = axis_label_size)\n",
    "\n",
    "axarr.legend()\n",
    "\n",
    "\n",
    "labels_raw = np.round(bins, 1)\n",
    "labels = ['[' + str(labels_raw[i]) + ', ' + str(labels_raw[i+1]) + ')' for i in range(len(labels_raw) - 1)]\n",
    "\n",
    "labels[0] = '< ' + str(labels_raw[1])\n",
    "labels[-1] = '> ' + str(labels_raw[-2])\n",
    "\n",
    "axarr.set_xticks(x_tmp)\n",
    "axarr.set_xticklabels(labels,\n",
    "                      rotation=45,\n",
    "                      ha = 'right', \n",
    "                      fontsize = axis_label_size * 0.6);\n",
    "\n",
    "fig.tight_layout()\n",
    "fig.savefig('../../figures/sparse_field/sparse_field_tpr.png')"
   ]
  },
  {
   "cell_type": "code",
   "execution_count": null,
   "metadata": {},
   "outputs": [],
   "source": []
  },
  {
   "cell_type": "code",
   "execution_count": null,
   "metadata": {},
   "outputs": [],
   "source": []
  }
 ],
 "metadata": {
  "kernelspec": {
   "display_name": "deblending_pytorch",
   "language": "python",
   "name": "deblending_pytorch"
  },
  "language_info": {
   "codemirror_mode": {
    "name": "ipython",
    "version": 3
   },
   "file_extension": ".py",
   "mimetype": "text/x-python",
   "name": "python",
   "nbconvert_exporter": "python",
   "pygments_lexer": "ipython3",
   "version": "3.8.5"
  }
 },
 "nbformat": 4,
 "nbformat_minor": 2
}
